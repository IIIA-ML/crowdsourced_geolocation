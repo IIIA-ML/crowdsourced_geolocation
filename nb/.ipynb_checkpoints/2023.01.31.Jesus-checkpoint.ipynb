{
 "cells": [
  {
   "cell_type": "code",
   "execution_count": 34,
   "metadata": {},
   "outputs": [
    {
     "name": "stdout",
     "output_type": "stream",
     "text": [
      "The autoreload extension is already loaded. To reload it, use:\n",
      "  %reload_ext autoreload\n"
     ]
    }
   ],
   "source": [
    "%matplotlib inline\n",
    "%load_ext autoreload\n",
    "%autoreload 2\n",
    "\n",
    "import matplotlib.pyplot as plt\n",
    "import numpy as np\n",
    "from scipy.stats import norm, uniform\n",
    "import cmdstanpy as cmd\n",
    "import seaborn as sn\n",
    "from crowdgeoloc.one_d import sample_tokyo_latitudes, generate_annotators, annotate, \\\n",
    "FunctionNormalAnnotatorPopulation, SimpleNormalAnnotatorPopulation, point_average\n",
    "from crowdgeoloc.experiment import ActiveAnnotationContest, norm_error\n",
    "from crowdgeoloc.active import Random\n",
    "from scipy.interpolate import CubicSpline"
   ]
  },
  {
   "cell_type": "code",
   "execution_count": 37,
   "metadata": {},
   "outputs": [],
   "source": [
    "n_points = 10000\n",
    "n_annotators = 20\n",
    "redundancy = 4"
   ]
  },
  {
   "cell_type": "code",
   "execution_count": 45,
   "metadata": {},
   "outputs": [
    {
     "name": "stdout",
     "output_type": "stream",
     "text": [
      "1e+204\n",
      "40000\n",
      "k= 4\n",
      "[0.63041047 0.57235676 0.80820799 0.36350213 1.01523821 0.03422166\n",
      " 0.78182307 0.43221345 0.22089235 0.69608263]\n",
      "[0.59961551 0.60194893 0.82358521 0.36890521 0.98830351 0.02831141\n",
      " 0.74706109 0.40055385 0.21631265 0.68644499]\n",
      "2.818513635515406\n"
     ]
    }
   ],
   "source": [
    "annotator_population = SimpleNormalAnnotatorPopulation(uniform(scale=0.1))\n",
    "point_distribution = uniform()\n",
    "points = point_distribution.rvs(n_points)\n",
    "ann_set = annotator_population.sample(n_annotators)\n",
    "exp = ActiveAnnotationContest(points, ann_set, max_total_annotations=n_points*redundancy)\n",
    "m = Random()\n",
    "ap = m.annotate(exp)\n",
    "print(ap[:10])\n",
    "print(points[:10])\n",
    "print(mean_norm_error(points, ap, ord=2))\n",
    "\n",
    "\n"
   ]
  },
  {
   "cell_type": "code",
   "execution_count": 15,
   "metadata": {},
   "outputs": [
    {
     "ename": "NameError",
     "evalue": "name 'annotations' is not defined",
     "output_type": "error",
     "traceback": [
      "\u001b[0;31m---------------------------------------------------------------------------\u001b[0m",
      "\u001b[0;31mNameError\u001b[0m                                 Traceback (most recent call last)",
      "Cell \u001b[0;32mIn [15], line 3\u001b[0m\n\u001b[1;32m      1\u001b[0m real_sigmas \u001b[38;5;241m=\u001b[39m np\u001b[38;5;241m.\u001b[39marray([x\u001b[38;5;241m.\u001b[39m_sigma \u001b[38;5;28;01mfor\u001b[39;00m x \u001b[38;5;129;01min\u001b[39;00m ann_set\u001b[38;5;241m.\u001b[39mannotators])\n\u001b[1;32m      2\u001b[0m \u001b[38;5;66;03m#t,w,a = ann_set.random_annotation(redundancy, points)\u001b[39;00m\n\u001b[0;32m----> 3\u001b[0m \u001b[38;5;28mprint\u001b[39m(\u001b[38;5;124m\"\u001b[39m\u001b[38;5;124mNum of annotations:\u001b[39m\u001b[38;5;124m\"\u001b[39m, \u001b[38;5;28mlen\u001b[39m(annotations[\u001b[38;5;241m0\u001b[39m]))\n\u001b[1;32m      4\u001b[0m \u001b[38;5;28mprint\u001b[39m(\u001b[38;5;124m\"\u001b[39m\u001b[38;5;124mReal sigmas:\u001b[39m\u001b[38;5;124m\"\u001b[39m, real_sigmas, \u001b[38;5;124m\"\u001b[39m\u001b[38;5;130;01m\\n\u001b[39;00m\u001b[38;5;124m\"\u001b[39m)\n\u001b[1;32m      5\u001b[0m \u001b[38;5;28mprint\u001b[39m(points[:\u001b[38;5;241m3\u001b[39m])\n",
      "\u001b[0;31mNameError\u001b[0m: name 'annotations' is not defined"
     ]
    }
   ],
   "source": [
    "\n",
    "\n",
    "\n",
    "\n",
    "real_sigmas = np.array([x._sigma for x in ann_set.annotators])\n",
    "#t,w,a = ann_set.random_annotation(redundancy, points)\n",
    "print(\"Num of annotations:\", len(annotations[0]))\n",
    "print(\"Real sigmas:\", real_sigmas, \"\\n\")\n",
    "print(points[:3])\n",
    "print(w)\n",
    "print(t)\n",
    "print(points[0],a[t==0])\n",
    "\n",
    "print(points[1],a[t==1])\n",
    "print(points[2],a[t==2])"
   ]
  },
  {
   "cell_type": "code",
   "execution_count": 53,
   "metadata": {},
   "outputs": [
    {
     "data": {
      "text/plain": [
       "array([9])"
      ]
     },
     "execution_count": 53,
     "metadata": {},
     "output_type": "execute_result"
    }
   ],
   "source": [
    "x[9:10]"
   ]
  },
  {
   "cell_type": "code",
   "execution_count": 26,
   "metadata": {},
   "outputs": [
    {
     "name": "stdout",
     "output_type": "stream",
     "text": [
      "4\n"
     ]
    }
   ],
   "source": [
    "print(min(4, 12, 43.3, 19, 100))"
   ]
  },
  {
   "cell_type": "code",
   "execution_count": null,
   "metadata": {},
   "outputs": [],
   "source": []
  },
  {
   "cell_type": "code",
   "execution_count": null,
   "metadata": {},
   "outputs": [],
   "source": []
  }
 ],
 "metadata": {
  "kernelspec": {
   "display_name": "Python 3",
   "language": "python",
   "name": "python3"
  },
  "language_info": {
   "codemirror_mode": {
    "name": "ipython",
    "version": 3
   },
   "file_extension": ".py",
   "mimetype": "text/x-python",
   "name": "python",
   "nbconvert_exporter": "python",
   "pygments_lexer": "ipython3",
   "version": "3.8.10"
  }
 },
 "nbformat": 4,
 "nbformat_minor": 5
}
