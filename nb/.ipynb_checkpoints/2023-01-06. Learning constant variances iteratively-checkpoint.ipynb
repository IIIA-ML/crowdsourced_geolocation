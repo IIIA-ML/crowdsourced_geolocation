{
 "cells": [
  {
   "cell_type": "code",
   "execution_count": 2,
   "id": "8e1bd419",
   "metadata": {
    "scrolled": true
   },
   "outputs": [],
   "source": [
    "%matplotlib inline\n",
    "%load_ext autoreload\n",
    "%autoreload 2\n",
    "\n",
    "import matplotlib.pyplot as plt\n",
    "import numpy as np\n",
    "from scipy.stats import norm, uniform\n",
    "import cmdstanpy as cmd\n",
    "import seaborn as sn\n",
    "from crowdgeoloc.one_d import sample_tokyo_latitudes, generate_annotators, annotate, \\\n",
    "FunctionNormalAnnotatorPopulation, SimpleNormalAnnotatorPopulation, point_average\n",
    "from scipy.interpolate import CubicSpline"
   ]
  },
  {
   "cell_type": "code",
   "execution_count": 3,
   "id": "a505a6a4",
   "metadata": {
    "scrolled": true
   },
   "outputs": [
    {
     "name": "stdout",
     "output_type": "stream",
     "text": [
      "(array([  0,   1,   2, ..., 997, 998, 999]), array([0, 0, 0, ..., 4, 4, 4]), array([0.81989499, 0.79036294, 0.34556863, ..., 0.65270068, 0.49687238,\n",
      "       0.50860926]))\n"
     ]
    }
   ],
   "source": [
    "n_annotators = 5\n",
    "n_points = 1000\n",
    "annotator_population = SimpleNormalAnnotatorPopulation()\n",
    "point_distribution = uniform()\n",
    "points = point_distribution.rvs(n_points)\n",
    "ann_set = annotator_population.sample(n_annotators)\n",
    "real_sigmas = np.array([x._sigma for x in ann_set.annotators])\n",
    "annotations = ann_set.random_annotation(n_annotators, points)\n",
    "\n",
    "print(annotations)"
   ]
  },
  {
   "cell_type": "code",
   "execution_count": 4,
   "id": "49355da1",
   "metadata": {},
   "outputs": [
    {
     "name": "stdout",
     "output_type": "stream",
     "text": [
      "[0.03115707 0.04720201 0.03373118 0.0649632  0.06177438]\n",
      "489  out of  1000\n"
     ]
    }
   ],
   "source": [
    "print(real_sigmas)\n",
    "more=0\n",
    "for i in range(n_points):\n",
    "    #print(points[i])\n",
    "    #print(np.mean(annotations[i::1000,2]))\n",
    "    if points[i] < np.mean(annotations[2][i::n_points]):\n",
    "        more += 1\n",
    "print(more,\" out of \",n_points)"
   ]
  },
  {
   "cell_type": "code",
   "execution_count": 75,
   "id": "60e3ef65",
   "metadata": {},
   "outputs": [],
   "source": [
    "def compute_avgs(my_avgs, annotations, sigmas):\n",
    "    my_avgs.fill(0)\n",
    "    weights = sigmas ** -2\n",
    "    #print(weights)\n",
    "    denoms = np.zeros_like(sigmas)\n",
    "    sum_weights = np.sum(weights)\n",
    "    denoms.fill(sum_weights)\n",
    "    denoms -= weights\n",
    "    print(denoms)\n",
    "    # This should be numpyized\n",
    "    point_indexes = annotations[0]\n",
    "    annotator_indexes = annotations[1]\n",
    "    values = annotations[2]\n",
    "    n_annotations = len(point_indexes)\n",
    "    for i in range(n_annotations):\n",
    "        point_index = int(point_indexes[i])\n",
    "        annotator_index = int(annotator_indexes[i])\n",
    "        value = values[i]\n",
    "        my_avgs[point_index, :] += (weights[annotator_index] * value)\n",
    "        my_avgs[point_index, annotator_index] -= (weights[annotator_index] * value)\n",
    "        #if point_index == 0:\n",
    "        #    print(my_avgs[0])\n",
    "    my_avgs /= denoms[None,:]"
   ]
  },
  {
   "cell_type": "code",
   "execution_count": 76,
   "id": "4a354884",
   "metadata": {},
   "outputs": [],
   "source": [
    "def compute_sigmas(sigmas, annotations, avgs):\n",
    "    n_points = avgs.shape[0]\n",
    "    #print(n_points)\n",
    "    sigmas.fill(0)\n",
    "    #i=0\n",
    "    point_indexes = annotations[0]\n",
    "    annotator_indexes = annotations[1]\n",
    "    values = annotations[2]\n",
    "    n_annotations = len(point_indexes)\n",
    "    for i in range(n_annotations):\n",
    "        point_index = int(point_indexes[i])\n",
    "        annotator_index = int(annotator_indexes[i])\n",
    "        value = values[i]\n",
    "        sq = ((avgs[point_index, annotator_index] - value) ** 2)\n",
    "        #if i < 3:\n",
    "            #print(\"Avg:\",avgs[point_index, annotator_index])\n",
    "            #print(\"Value:\",value)\n",
    "            #print(\"Sq:\",sq)\n",
    "        #    i += 1\n",
    "        sigmas[annotator_index] += sq\n",
    "        #print(sigmas)\n",
    "    sigmas /= (n_points - 1)\n",
    "    np.sqrt(sigmas, out=sigmas)\n",
    "    \n",
    "\n",
    "def find_sigmas(annotations, n_points, n_annotators):\n",
    "    my_avgs = np.zeros((n_points, n_annotators))\n",
    "    sigmas = np.ones(n_annotators)\n",
    "    i = 0\n",
    "    sigmas_history = [sigmas.copy()]\n",
    "    difference = 1\n",
    "    while (i < 100) and (difference > 1e-16):\n",
    "        print(i, sigmas[:5])\n",
    "        compute_avgs(my_avgs, annotations, sigmas)\n",
    "        print(my_avgs[0:3])\n",
    "        compute_sigmas(sigmas, annotations, my_avgs)\n",
    "        difference = np.linalg.norm(sigmas_history[-1]-sigmas)\n",
    "        print(\"Change in this iteration:\", difference)\n",
    "        sigmas_history.append(sigmas.copy())\n",
    "        i += 1\n",
    "    return sigmas_history"
   ]
  },
  {
   "cell_type": "code",
   "execution_count": 77,
   "id": "4ca5a2e9",
   "metadata": {},
   "outputs": [
    {
     "name": "stdout",
     "output_type": "stream",
     "text": [
      "0 [1. 1. 1. 1. 1.]\n",
      "[4. 4. 4. 4. 4.]\n",
      "[[1.01617594 1.00887991 0.93593662 1.01243356 1.02810398]\n",
      " [0.35790913 0.35785236 0.22240252 0.3616901  0.35283758]\n",
      " [0.36036073 0.37811432 0.30010967 0.32646754 0.37407773]]\n",
      "Change in this iteration: 1.9081742100519514\n",
      "1 [0.08738285 0.09612766 0.29896503 0.16946861 0.09997715]\n",
      "[254.2722369  277.01600313 374.04675986 350.41552062 285.18921531]\n",
      "[[0.94664657 0.93443924 0.93390178 0.94246472 0.96231961]\n",
      " [0.25091216 0.24837211 0.22513893 0.24422312 0.24055891]\n",
      " [0.27504423 0.30464571 0.27508604 0.2677854  0.29674687]]\n",
      "Change in this iteration: 0.06911988158162087\n",
      "2 [0.04546271 0.05809753 0.2964838  0.15127536 0.06480872]\n",
      "[ 589.42797999  776.98614481 1061.87786966 1029.55588821  835.16848484]\n",
      "[[0.93952746 0.92774739 0.93488713 0.93773735 0.9523342 ]\n",
      " [0.23870357 0.2343568  0.22504456 0.23180092 0.2277276 ]\n",
      " [0.25453242 0.29202767 0.27115081 0.26722652 0.28287177]]\n",
      "Change in this iteration: 0.00529412304027102\n",
      "3 [0.0433255  0.05412113 0.2960763  0.15030676 0.06225058]\n",
      "[ 655.12850395  846.46319845 1176.45781487 1143.60215738  929.80982042]\n",
      "[[0.93984105 0.92738881 0.93539292 0.93797393 0.95219226]\n",
      " [0.23758057 0.23375358 0.22500182 0.23110735 0.22706855]\n",
      " [0.25242375 0.29129715 0.27014459 0.26650999 0.28102313]]\n",
      "Change in this iteration: 0.0001360443934604684\n",
      "4 [0.04326266 0.05400442 0.29605482 0.15032829 0.0622544 ]\n",
      "[ 656.56294557  847.96922404 1179.4393432  1146.59801545  932.82470011]\n",
      "[[0.93990294 0.92740776 0.93543421 0.93801031 0.95218918]\n",
      " [0.23754566 0.23373155 0.22499174 0.2310816  0.22705064]\n",
      " [0.2523635  0.29130899 0.2701253  0.26650183 0.28096312]]\n",
      "Change in this iteration: 8.93268834720024e-06\n",
      "5 [0.04325969 0.05399603 0.2960544  0.15032776 0.0622546 ]\n",
      "[ 656.66821581  848.04143175 1179.61811215 1146.77650673  933.00516861]\n",
      "[[0.93990733 0.92740867 0.93543713 0.93801292 0.95218956]\n",
      " [0.23754302 0.23373045 0.22499114 0.23108005 0.22704952]\n",
      " [0.25235946 0.2913097  0.27012317 0.26650017 0.28095829]]\n",
      "Change in this iteration: 4.701421756977288e-07\n",
      "6 [0.04325947 0.05399565 0.29605437 0.15032784 0.06225475]\n",
      "[ 656.67176008  848.04560171 1179.6270997  1146.78554141  933.01538953]\n",
      "[[0.93990762 0.92740879 0.93543731 0.93801308 0.95218954]\n",
      " [0.2375429  0.23373036 0.22499109 0.23107995 0.22704946]\n",
      " [0.25235928 0.29130981 0.27012314 0.26650017 0.2809581 ]]\n",
      "Change in this iteration: 3.9635754440018005e-08\n",
      "7 [0.04325945 0.05399562 0.29605437 0.15032783 0.06225475]\n",
      "[ 656.67223832  848.045935   1179.62790316 1146.7863419   933.01618815]\n",
      "[[0.93990763 0.92740879 0.93543732 0.93801309 0.95218954]\n",
      " [0.23754289 0.23373036 0.22499108 0.23107994 0.22704945]\n",
      " [0.25235926 0.29130981 0.27012313 0.26650017 0.28095808]]\n",
      "Change in this iteration: 1.980761342440744e-09\n",
      "8 [0.04325945 0.05399561 0.29605437 0.15032783 0.06225475]\n",
      "[ 656.67225239  848.04595265 1179.62794063 1146.7863796   933.01623119]\n",
      "[[0.93990764 0.92740879 0.93543733 0.93801309 0.95218954]\n",
      " [0.23754289 0.23373036 0.22499108 0.23107994 0.22704945]\n",
      " [0.25235926 0.29130981 0.27012313 0.26650017 0.28095808]]\n",
      "Change in this iteration: 1.725652384839068e-10\n",
      "9 [0.04325945 0.05399561 0.29605437 0.15032783 0.06225475]\n",
      "[ 656.6722545   848.04595409 1179.62794412 1146.78638307  933.01623462]\n",
      "[[0.93990764 0.92740879 0.93543733 0.93801309 0.95218954]\n",
      " [0.23754289 0.23373036 0.22499108 0.23107994 0.22704945]\n",
      " [0.25235926 0.29130981 0.27012313 0.26650017 0.28095808]]\n",
      "Change in this iteration: 8.338591902980332e-12\n",
      "10 [0.04325945 0.05399561 0.29605437 0.15032783 0.06225475]\n",
      "[ 656.67225455  848.04595416 1179.62794427 1146.78638322  933.0162348 ]\n",
      "[[0.93990764 0.92740879 0.93543733 0.93801309 0.95218954]\n",
      " [0.23754289 0.23373036 0.22499108 0.23107994 0.22704945]\n",
      " [0.25235926 0.29130981 0.27012313 0.26650017 0.28095808]]\n",
      "Change in this iteration: 7.5406689240519e-13\n",
      "11 [0.04325945 0.05399561 0.29605437 0.15032783 0.06225475]\n",
      "[ 656.67225456  848.04595417 1179.62794429 1146.78638324  933.01623482]\n",
      "[[0.93990764 0.92740879 0.93543733 0.93801309 0.95218954]\n",
      " [0.23754289 0.23373036 0.22499108 0.23107994 0.22704945]\n",
      " [0.25235926 0.29130981 0.27012313 0.26650017 0.28095808]]\n",
      "Change in this iteration: 3.516548458532687e-14\n",
      "12 [0.04325945 0.05399561 0.29605437 0.15032783 0.06225475]\n",
      "[ 656.67225456  848.04595417 1179.62794429 1146.78638324  933.01623482]\n",
      "[[0.93990764 0.92740879 0.93543733 0.93801309 0.95218954]\n",
      " [0.23754289 0.23373036 0.22499108 0.23107994 0.22704945]\n",
      " [0.25235926 0.29130981 0.27012313 0.26650017 0.28095808]]\n",
      "Change in this iteration: 3.325583897738542e-15\n",
      "13 [0.04325945 0.05399561 0.29605437 0.15032783 0.06225475]\n",
      "[ 656.67225456  848.04595417 1179.62794429 1146.78638324  933.01623482]\n",
      "[[0.93990764 0.92740879 0.93543733 0.93801309 0.95218954]\n",
      " [0.23754289 0.23373036 0.22499108 0.23107994 0.22704945]\n",
      " [0.25235926 0.29130981 0.27012313 0.26650017 0.28095808]]\n",
      "Change in this iteration: 1.5670228712733345e-16\n",
      "14 [0.04325945 0.05399561 0.29605437 0.15032783 0.06225475]\n",
      "[ 656.67225456  848.04595417 1179.62794429 1146.78638324  933.01623482]\n",
      "[[0.93990764 0.92740879 0.93543733 0.93801309 0.95218954]\n",
      " [0.23754289 0.23373036 0.22499108 0.23107994 0.22704945]\n",
      " [0.25235926 0.29130981 0.27012313 0.26650017 0.28095808]]\n",
      "Change in this iteration: 2.4037033579794548e-17\n"
     ]
    }
   ],
   "source": [
    "#print(points[:4])\n",
    "#print(real_sigmas)\n",
    "sigmas_history=find_sigmas(annotations, n_points, n_annotators)"
   ]
  },
  {
   "cell_type": "code",
   "execution_count": 78,
   "id": "45a699a6",
   "metadata": {},
   "outputs": [
    {
     "name": "stdout",
     "output_type": "stream",
     "text": [
      "[0.0260131  0.04959339 0.28590464 0.15025982 0.05595046]\n",
      "[0.04325945 0.05399561 0.29605437 0.15032783 0.06225475]\n",
      "[-1.72463565e-02 -4.40222359e-03 -1.01497377e-02 -6.80070869e-05\n",
      " -6.30429494e-03]\n"
     ]
    }
   ],
   "source": [
    "learned_sigmas = sigmas_history[-1]\n",
    "print(real_sigmas[:5])\n",
    "print(learned_sigmas[:5])\n",
    "print(real_sigmas-learned_sigmas)"
   ]
  },
  {
   "cell_type": "code",
   "execution_count": 79,
   "id": "21de86e3",
   "metadata": {},
   "outputs": [],
   "source": [
    "y=np.log(np.array([np.linalg.norm(real_sigmas-learned_sigmas) for learned_sigmas in sigmas_history]))"
   ]
  },
  {
   "cell_type": "code",
   "execution_count": 80,
   "id": "423dc005",
   "metadata": {},
   "outputs": [
    {
     "data": {
      "text/plain": [
       "[<matplotlib.lines.Line2D at 0x7fa70de58df0>]"
      ]
     },
     "execution_count": 80,
     "metadata": {},
     "output_type": "execute_result"
    },
    {
     "data": {
      "image/png": "[encoded data removed]",
      "text/plain": [
       "<Figure size 640x480 with 1 Axes>"
      ]
     },
     "metadata": {},
     "output_type": "display_data"
    }
   ],
   "source": [
    "plt.plot(np.arange(len(y)),y)"
   ]
  },
  {
   "cell_type": "code",
   "execution_count": 81,
   "id": "6e6ee086",
   "metadata": {},
   "outputs": [],
   "source": [
    "def compute_final_avgs(annotations, sigmas, n_points):\n",
    "    my_avgs = np.zeros(n_points)\n",
    "    weights = sigmas ** -2\n",
    "    denom = np.sum(weights)\n",
    "    point_indexes = annotations[0]\n",
    "    annotator_indexes = annotations[1]\n",
    "    values = annotations[2]\n",
    "    n_annotations = len(point_indexes)\n",
    "    for i in range(n_annotations):\n",
    "        point_index = int(point_indexes[i])\n",
    "        annotator_index = int(annotator_indexes[i])\n",
    "        value = values[i]\n",
    "        my_avgs[point_index] += (weights[annotator_index] * value)\n",
    "    my_avgs /= denom\n",
    "    return my_avgs"
   ]
  },
  {
   "cell_type": "code",
   "execution_count": 82,
   "id": "1baf6eeb",
   "metadata": {},
   "outputs": [],
   "source": [
    "int_avgs = compute_final_avgs(annotations, learned_sigmas, n_points)\n",
    "avgs = compute_final_avgs(annotations, np.ones(n_annotators), n_points)"
   ]
  },
  {
   "cell_type": "code",
   "execution_count": 83,
   "id": "3427ef0b",
   "metadata": {},
   "outputs": [
    {
     "name": "stdout",
     "output_type": "stream",
     "text": [
      "Error intelligent: 0.7170785725463689\n",
      "Error mean: 2.088241101129562\n"
     ]
    }
   ],
   "source": [
    "print(\"Error intelligent:\", np.linalg.norm(int_avgs - points))\n",
    "print(\"Error mean:\", np.linalg.norm(avgs - points))"
   ]
  },
  {
   "cell_type": "code",
   "execution_count": null,
   "id": "3261933d",
   "metadata": {},
   "outputs": [],
   "source": []
  }
 ],
 "metadata": {
  "kernelspec": {
   "display_name": "Python 3 (ipykernel)",
   "language": "python",
   "name": "python3"
  },
  "language_info": {
   "codemirror_mode": {
    "name": "ipython",
    "version": 3
   },
   "file_extension": ".py",
   "mimetype": "text/x-python",
   "name": "python",
   "nbconvert_exporter": "python",
   "pygments_lexer": "ipython3",
   "version": "3.8.10"
  }
 },
 "nbformat": 4,
 "nbformat_minor": 5
}
