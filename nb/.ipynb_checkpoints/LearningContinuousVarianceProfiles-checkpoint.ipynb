{
 "cells": [
  {
   "cell_type": "markdown",
   "id": "893966cc",
   "metadata": {},
   "source": [
    "# Learning variance annotation functions with multiple annotators"
   ]
  },
  {
   "cell_type": "code",
   "execution_count": 2,
   "id": "ff072164",
   "metadata": {
    "tags": []
   },
   "outputs": [
    {
     "name": "stdout",
     "output_type": "stream",
     "text": [
      "The autoreload extension is already loaded. To reload it, use:\n",
      "  %reload_ext autoreload\n"
     ]
    },
    {
     "ename": "IndentationError",
     "evalue": "expected an indented block (one_d.py, line 70)",
     "output_type": "error",
     "traceback": [
      "Traceback \u001b[0;36m(most recent call last)\u001b[0m:\n",
      "\u001b[0m  File \u001b[1;32m~/crowd_geoloc_https/.venv/lib/python3.8/site-packages/IPython/core/interactiveshell.py:3442\u001b[0m in \u001b[1;35mrun_code\u001b[0m\n    exec(code_obj, self.user_global_ns, self.user_ns)\u001b[0m\n",
      "\u001b[0;36m  Cell \u001b[0;32mIn[2], line 10\u001b[0;36m\n\u001b[0;31m    from crowdgeoloc.one_d import sample_tokyo_latitudes, generate_annotators, annotate, \\\u001b[0;36m\n",
      "\u001b[0;36m  File \u001b[0;32m~/crowd_geoloc_https/src/crowdgeoloc/one_d.py:70\u001b[0;36m\u001b[0m\n\u001b[0;31m    def cubic_spline_generator(splits=11, quality_diversity=0.5, max_height=0.5, min_height=0.01):\u001b[0m\n\u001b[0m    ^\u001b[0m\n\u001b[0;31mIndentationError\u001b[0m\u001b[0;31m:\u001b[0m expected an indented block\n"
     ]
    }
   ],
   "source": [
    "%matplotlib inline\n",
    "%load_ext autoreload\n",
    "%autoreload 2\n",
    "\n",
    "import matplotlib.pyplot as plt\n",
    "import numpy as np\n",
    "from scipy.stats import norm, uniform\n",
    "import cmdstanpy as cmd\n",
    "import seaborn as sn\n",
    "from crowdgeoloc.one_d import sample_tokyo_latitudes, generate_annotators, annotate, \\\n",
    "FunctionNormalAnnotatorPopulation\n",
    "from crowdgeoloc.active import point_average\n",
    "from scipy.interpolate import CubicSpline\n",
    "\n",
    "#from crowdgeoloc.module import *"
   ]
  },
  {
   "cell_type": "code",
   "execution_count": null,
   "id": "74174f62",
   "metadata": {
    "tags": []
   },
   "outputs": [],
   "source": [
    "cmd.install_cmdstan()"
   ]
  },
  {
   "cell_type": "markdown",
   "id": "a8aacbeb",
   "metadata": {},
   "source": [
    "## Create dataset"
   ]
  },
  {
   "cell_type": "markdown",
   "id": "10e197cb",
   "metadata": {},
   "source": [
    "### Create population of annotators"
   ]
  },
  {
   "cell_type": "code",
   "execution_count": null,
   "id": "57b534e2",
   "metadata": {
    "lines_to_next_cell": 2,
    "tags": []
   },
   "outputs": [],
   "source": [
    "w = 20\n",
    "population = FunctionNormalAnnotatorPopulation()\n",
    "ann_set = population.sample(w)"
   ]
  },
  {
   "cell_type": "code",
   "execution_count": null,
   "id": "fb645128",
   "metadata": {
    "tags": []
   },
   "outputs": [],
   "source": [
    "allx = np.arange(1000)/1000.\n",
    "for i, ann in enumerate(ann_set.annotators):\n",
    "    sigmas = ann.sigma(allx)\n",
    "    print(\"Annotator \",i,\":\", np.sqrt(np.mean(sigmas*sigmas)))\n",
    "    plt.plot(allx,sigmas)\n",
    "plt.legend(np.arange(len(ann_set.annotators)))\n",
    "plt.show()"
   ]
  },
  {
   "cell_type": "markdown",
   "id": "40e7cadf",
   "metadata": {},
   "source": [
    "### Create the points, and their annotations"
   ]
  },
  {
   "cell_type": "code",
   "execution_count": null,
   "id": "a0486d8c",
   "metadata": {
    "tags": []
   },
   "outputs": [],
   "source": [
    "t = 100000\n",
    "k = 5\n",
    "points = uniform.rvs(size=t)\n",
    "\n",
    "t_A, w_A, ann = ann_set.random_annotation(k, points)"
   ]
  },
  {
   "cell_type": "code",
   "execution_count": null,
   "id": "c9edf60e",
   "metadata": {
    "tags": []
   },
   "outputs": [],
   "source": [
    "print(ann)"
   ]
  },
  {
   "cell_type": "markdown",
   "id": "3e38bcc6",
   "metadata": {},
   "source": [
    "## Determine positions by computing the average"
   ]
  },
  {
   "cell_type": "code",
   "execution_count": null,
   "id": "dad22292",
   "metadata": {
    "tags": []
   },
   "outputs": [],
   "source": [
    "_id, mean = point_average(t_A, ann) "
   ]
  },
  {
   "cell_type": "markdown",
   "id": "e0ab5f1d",
   "metadata": {},
   "source": [
    "\n",
    "_annotations = annotations.copy()\n",
    "point_indexes = _annotations[:,0].copy()\n",
    "_annotations = annotations[:,2]\n",
    "#print(_annotations)\n",
    "_ndx = np.argsort(point_indexes)\n",
    "#print(_ndx)\n",
    "_id, _pos, g_count  = np.unique(point_indexes[_ndx], \n",
    "                                return_index=True, \n",
    "                                return_counts=True)\n",
    "#print(_pos)\n",
    "#print(g_count)\n",
    "g_sum = np.add.reduceat(_annotations[_ndx], _pos, axis=0)\n",
    "g_mean = g_sum / g_count\n"
   ]
  },
  {
   "cell_type": "code",
   "execution_count": null,
   "id": "33121d2a",
   "metadata": {
    "tags": []
   },
   "outputs": [],
   "source": [
    "plt.plot(points, mean, \"b.\", alpha=0.05)\n",
    "plt.show()"
   ]
  },
  {
   "cell_type": "markdown",
   "id": "8d5ab6ea",
   "metadata": {},
   "source": [
    "## Define the function that connect variance points to construct a variance function"
   ]
  },
  {
   "cell_type": "code",
   "execution_count": null,
   "id": "62276f33",
   "metadata": {
    "tags": []
   },
   "outputs": [],
   "source": [
    "def f(t, kappa, x, y):\n",
    "    r = len(x)\n",
    "    tr = np.repeat(t, r)\n",
    "    tr.shape=(len(t), r)\n",
    "    #spacing = x[1] - x[0]\n",
    "    #print(d)\n",
    "    d = (tr - x) * (tr - x)\n",
    "    ed = np.exp(-kappa * d)\n",
    "    s = np.sum(ed, axis=1)\n",
    "    #print(s)\n",
    "    res = np.dot(ed, y)/s\n",
    "    #print(res)\n",
    "    return res"
   ]
  },
  {
   "cell_type": "code",
   "execution_count": null,
   "id": "3a368f7a",
   "metadata": {
    "tags": []
   },
   "outputs": [],
   "source": [
    "k = 20\n",
    "x = np.arange(k)/(k-1.)\n",
    "y = np.random.uniform(size=k)*0.2\n",
    "plt.plot(x,y,\"b.\")"
   ]
  },
  {
   "cell_type": "code",
   "execution_count": null,
   "id": "1019a00e",
   "metadata": {
    "tags": []
   },
   "outputs": [],
   "source": [
    "n = 1000\n",
    "allx=np.arange(n)/(n-1.)\n",
    "plt.plot(x, y, \"b.\")\n",
    "spacing = x[1] - x[0]\n",
    "ka = 5. / (spacing * spacing)\n",
    "plt.plot(allx,f(allx, ka, x, y))\n",
    "plt.show()"
   ]
  },
  {
   "cell_type": "markdown",
   "id": "1a1a65a9",
   "metadata": {},
   "source": [
    "## Learn the variance profiles using Stan"
   ]
  },
  {
   "cell_type": "code",
   "execution_count": null,
   "id": "4e75db5f",
   "metadata": {
    "tags": []
   },
   "outputs": [],
   "source": [
    "\n",
    "from crowdgeoloc.cmdstan import resource_filename\n",
    "gp = cmd.CmdStanModel(stan_file=resource_filename('gp-learn-variances-ma.stan'))"
   ]
  },
  {
   "cell_type": "code",
   "execution_count": null,
   "id": "5da34dcb",
   "metadata": {
    "tags": []
   },
   "outputs": [],
   "source": [
    "a = len(ann)\n",
    "l = 15\n",
    "d = {\"w\":w,\n",
    "     \"a\":a,\n",
    "     \"t\":t,\n",
    "     \"t_A\":t_A + 1,\n",
    "     \"w_A\":w_A + 1,\n",
    "     \"ann\":ann,\n",
    "     \"l\":l\n",
    "    }\n",
    "inits = {\"y_grid\":np.ones((w,l))*0.1}"
   ]
  },
  {
   "cell_type": "code",
   "execution_count": null,
   "id": "e7ce079e",
   "metadata": {
    "tags": []
   },
   "outputs": [],
   "source": [
    "s = gp.optimize(data=d, inits=inits, show_console=True, iter=1000000, algorithm='lbfgs', tol_rel_grad=1000.)"
   ]
  },
  {
   "cell_type": "markdown",
   "id": "7cf8561a",
   "metadata": {},
   "source": [
    "## Evaluate the quality "
   ]
  },
  {
   "cell_type": "markdown",
   "id": "b4bdaf3a",
   "metadata": {},
   "source": [
    "### Quality of the consensuses "
   ]
  },
  {
   "cell_type": "code",
   "execution_count": null,
   "id": "1962d306",
   "metadata": {
    "tags": []
   },
   "outputs": [],
   "source": [
    "kappa = s.stan_variable(\"kappa\")\n",
    "x = s.stan_variable(\"x\")\n",
    "plt.plot(np.abs(points-x), np.abs(points-mean), \"b.\")\n",
    "print(\"Better:\", np.sum(np.abs(points-x)<np.abs(points-mean)))\n",
    "print(\"Worse:\", np.sum(np.abs(points-x)>np.abs(points-mean)))\n",
    "plt.plot([0,0.2],[0,0.2],\"r\")\n",
    "plt.show()\n",
    "plt.plot(points, x, \"b.\", alpha=0.05)\n",
    "plt.plot(points, mean, \"r.\", alpha=0.05)\n",
    "plt.show()\n",
    "y_grid = s.stan_variable(\"y_grid\")\n",
    "#print(y_grid)\n",
    "print(\"Average euclidean distance from the points to the mean consensuses:\", np.sum((points - mean) **2)/t)\n",
    "print(\"Average euclidean distance from the points to the profiled consensuses:\", np.sum((points - x) **2)/t)\n",
    "print(\"Average absolute distance from the points to the mean consensuses:\", np.sum(np.abs(points - mean))/t)\n",
    "print(\"Average absolute distance from the points to the profiled consensuses:\", np.sum(np.abs(points - x))/t)"
   ]
  },
  {
   "cell_type": "markdown",
   "id": "ef3d90e4",
   "metadata": {},
   "source": [
    "### Quality of the variance profiles"
   ]
  },
  {
   "cell_type": "code",
   "execution_count": null,
   "id": "94e1a161",
   "metadata": {
    "tags": []
   },
   "outputs": [],
   "source": [
    "gridpoints = np.arange(l) / (l - 1.)"
   ]
  },
  {
   "cell_type": "code",
   "execution_count": null,
   "id": "3cc34c07",
   "metadata": {
    "lines_to_next_cell": 0,
    "tags": []
   },
   "outputs": [],
   "source": [
    "for i, ann_ in enumerate(ann_set.annotators):\n",
    "    sigmas = ann_.sigma(allx)\n",
    "    sigmas_learned = f(allx, kappa, gridpoints, y_grid[i])\n",
    "    print(\"Annotator \",i,\":\", np.sqrt(np.mean(sigmas*sigmas)), np.sqrt(np.mean(sigmas_learned*sigmas_learned)))\n",
    "    plt.plot(allx, sigmas, \"b\")\n",
    "    plt.plot(allx, sigmas_learned, \"r\")\n",
    "    plt.show()\n",
    "#plt.legend(np.arange(w))"
   ]
  },
  {
   "cell_type": "code",
   "execution_count": null,
   "id": "b9ca0689",
   "metadata": {},
   "outputs": [],
   "source": []
  },
  {
   "cell_type": "code",
   "execution_count": null,
   "id": "8f093dbc",
   "metadata": {},
   "outputs": [],
   "source": []
  },
  {
   "cell_type": "code",
   "execution_count": null,
   "id": "d004b0aa",
   "metadata": {
    "lines_to_next_cell": 2
   },
   "outputs": [],
   "source": []
  }
 ],
 "metadata": {
  "jupytext": {
   "formats": "ipynb,py:light"
  },
  "kernelspec": {
   "display_name": "Python 3 (ipykernel)",
   "language": "python",
   "name": "python3"
  },
  "language_info": {
   "codemirror_mode": {
    "name": "ipython",
    "version": 3
   },
   "file_extension": ".py",
   "mimetype": "text/x-python",
   "name": "python",
   "nbconvert_exporter": "python",
   "pygments_lexer": "ipython3",
   "version": "3.8.10"
  }
 },
 "nbformat": 4,
 "nbformat_minor": 5
}
